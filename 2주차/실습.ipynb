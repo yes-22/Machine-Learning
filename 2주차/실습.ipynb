## 1. 분류 데이터 바탕으로 연습

1. 데이터를 DataFrame으로 로딩, Column별 데이터 타입 확인해보기
    1. DataFrame 로딩 
        
        ```python
        import pandas as pd
        credit_df = pd.read_csv(r"C:\Users\PC\AppData\Roaming\Microsoft\Windows\Start Menu\Programs\Anaconda (anaconda3)\credit.csv")
        credit_df 
        ```
        
    2. Colum 별 데이터 타입 확인하기 
        creadit_df.info() 
       
    
2. DataFrame에서 새로운 칼럼을 임의로 추가하고 0을 할당해보기, 0 말고 다른 임의의 값들도 할당해보기
    1. DataFrame에서 새로운 칼럼을 임의로 추가 및 0 할당
        
        ```python
        credit_df['New'] = 0
        credit_df.head()
        ```
        
        
        ‘New’ 라는 칼럼 생성 및 0 할당 
        
    2. 다른 임의의 값들도 할당
        
        ```python
        credit_df['New_10'] = credit_df['New'] + 10
        credit_df['Hello'] = credit_df['New'] + credit_df['Amount']
        credit_df.head()
        ```
        
        ‘New_10’과 ‘Hello’라는 새로운 칼럼을 생성한 후 임의 값 할당 
        
3. 새로운 칼럽을 Drop을 이용해서 삭제해보기
    
    ```python
    credit_drop_df = credit_df.drop('New', axis = 1)
    credit_drop_df.head()
    ```
    
    drop을 이용해서 새로 생성한 New 칼럼 삭제
    
    삭제된 모습을 확인할 수 있음 
    
4. 데이터 설렉션을 통해 조건 설정해서 데이터프레임 다시 추출해보기
    
    ```python
    credit_df_=credit_df[credit_df['Time']==172786.0]
    credit_df_
    ```
    
    
5. 데이터 설렉션을 통해 데이터내의 일부 컬럼만 나오게 데이터 프레임 추출해보기
    
    ```python
    print('단일 칼럼 데이터 추출 : \n', credit_df['Time'].head())
    print('\n여러 칼럼 데이터 추출: \n', credit_df[['Time', 'Amount']].head())
    ```
    
6. 데이터 프레임 정렬해보기
    
    ```python
    credit_sorted = credit_df.sort_values(by=['Time'])
    credit_sorted.head()
    ```
    
    
7. 결손 데이터 처리해보기
    
    
8. Apply lambda 이용해서 새로운 데이터 추출해보기
    
    ```python
    credit_df['Time_cat'] = credit_df['Time'].apply(lambda x : 'late' if x >= 2 else 'Good')
    credit_df[['Time', 'Time_cat']].head()
    ```
    
